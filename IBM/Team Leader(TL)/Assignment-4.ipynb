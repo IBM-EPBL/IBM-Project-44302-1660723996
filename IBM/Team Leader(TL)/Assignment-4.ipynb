{
 "cells": [
  {
   "cell_type": "code",
   "execution_count": 5,
   "id": "75681c6b",
   "metadata": {},
   "outputs": [],
   "source": [
    "import pandas as pd\n",
    "import numpy as np\n",
    "import matplotlib.pyplot as plt\n",
    "import seaborn as sns\n",
    "import scipy\n",
    "from scipy import stats\n",
    "from sklearn.preprocessing import OneHotEncoder\n",
    "\n",
    "import sklearn\n",
    "from sklearn.cluster import KMeans\n",
    "from mpl_toolkits.mplot3d import Axes3D\n",
    "from sklearn.preprocessing import scale\n",
    "\n",
    "import sklearn.metrics as sm\n",
    "from sklearn import datasets\n",
    "from sklearn.metrics import confusion_matrix,classification_report"
   ]
  },
  {
   "cell_type": "markdown",
   "id": "16a1915c",
   "metadata": {},
   "source": [
    "# Dataset"
   ]
  },
  {
   "cell_type": "code",
   "execution_count": 6,
   "id": "0bca8714",
   "metadata": {},
   "outputs": [],
   "source": [
    "dataset= pd.read_csv(\"C:\\\\Users\\\\Devi\\\\Downloads\\\\Mall_Customers.csv\")"
   ]
  },
  {
   "cell_type": "code",
   "execution_count": 7,
   "id": "61222fd3",
   "metadata": {},
   "outputs": [
    {
     "data": {
      "text/html": [
       "<div>\n",
       "<style scoped>\n",
       "    .dataframe tbody tr th:only-of-type {\n",
       "        vertical-align: middle;\n",
       "    }\n",
       "\n",
       "    .dataframe tbody tr th {\n",
       "        vertical-align: top;\n",
       "    }\n",
       "\n",
       "    .dataframe thead th {\n",
       "        text-align: right;\n",
       "    }\n",
       "</style>\n",
       "<table border=\"1\" class=\"dataframe\">\n",
       "  <thead>\n",
       "    <tr style=\"text-align: right;\">\n",
       "      <th></th>\n",
       "      <th>CustomerID</th>\n",
       "      <th>Gender</th>\n",
       "      <th>Age</th>\n",
       "      <th>Annual Income (k$)</th>\n",
       "      <th>Spending Score (1-100)</th>\n",
       "    </tr>\n",
       "  </thead>\n",
       "  <tbody>\n",
       "    <tr>\n",
       "      <th>0</th>\n",
       "      <td>1</td>\n",
       "      <td>Male</td>\n",
       "      <td>19</td>\n",
       "      <td>15</td>\n",
       "      <td>39</td>\n",
       "    </tr>\n",
       "    <tr>\n",
       "      <th>1</th>\n",
       "      <td>2</td>\n",
       "      <td>Male</td>\n",
       "      <td>21</td>\n",
       "      <td>15</td>\n",
       "      <td>81</td>\n",
       "    </tr>\n",
       "    <tr>\n",
       "      <th>2</th>\n",
       "      <td>3</td>\n",
       "      <td>Female</td>\n",
       "      <td>20</td>\n",
       "      <td>16</td>\n",
       "      <td>6</td>\n",
       "    </tr>\n",
       "    <tr>\n",
       "      <th>3</th>\n",
       "      <td>4</td>\n",
       "      <td>Female</td>\n",
       "      <td>23</td>\n",
       "      <td>16</td>\n",
       "      <td>77</td>\n",
       "    </tr>\n",
       "    <tr>\n",
       "      <th>4</th>\n",
       "      <td>5</td>\n",
       "      <td>Female</td>\n",
       "      <td>31</td>\n",
       "      <td>17</td>\n",
       "      <td>40</td>\n",
       "    </tr>\n",
       "    <tr>\n",
       "      <th>...</th>\n",
       "      <td>...</td>\n",
       "      <td>...</td>\n",
       "      <td>...</td>\n",
       "      <td>...</td>\n",
       "      <td>...</td>\n",
       "    </tr>\n",
       "    <tr>\n",
       "      <th>195</th>\n",
       "      <td>196</td>\n",
       "      <td>Female</td>\n",
       "      <td>35</td>\n",
       "      <td>120</td>\n",
       "      <td>79</td>\n",
       "    </tr>\n",
       "    <tr>\n",
       "      <th>196</th>\n",
       "      <td>197</td>\n",
       "      <td>Female</td>\n",
       "      <td>45</td>\n",
       "      <td>126</td>\n",
       "      <td>28</td>\n",
       "    </tr>\n",
       "    <tr>\n",
       "      <th>197</th>\n",
       "      <td>198</td>\n",
       "      <td>Male</td>\n",
       "      <td>32</td>\n",
       "      <td>126</td>\n",
       "      <td>74</td>\n",
       "    </tr>\n",
       "    <tr>\n",
       "      <th>198</th>\n",
       "      <td>199</td>\n",
       "      <td>Male</td>\n",
       "      <td>32</td>\n",
       "      <td>137</td>\n",
       "      <td>18</td>\n",
       "    </tr>\n",
       "    <tr>\n",
       "      <th>199</th>\n",
       "      <td>200</td>\n",
       "      <td>Male</td>\n",
       "      <td>30</td>\n",
       "      <td>137</td>\n",
       "      <td>83</td>\n",
       "    </tr>\n",
       "  </tbody>\n",
       "</table>\n",
       "<p>200 rows × 5 columns</p>\n",
       "</div>"
      ],
      "text/plain": [
       "     CustomerID  Gender  Age  Annual Income (k$)  Spending Score (1-100)\n",
       "0             1    Male   19                  15                      39\n",
       "1             2    Male   21                  15                      81\n",
       "2             3  Female   20                  16                       6\n",
       "3             4  Female   23                  16                      77\n",
       "4             5  Female   31                  17                      40\n",
       "..          ...     ...  ...                 ...                     ...\n",
       "195         196  Female   35                 120                      79\n",
       "196         197  Female   45                 126                      28\n",
       "197         198    Male   32                 126                      74\n",
       "198         199    Male   32                 137                      18\n",
       "199         200    Male   30                 137                      83\n",
       "\n",
       "[200 rows x 5 columns]"
      ]
     },
     "execution_count": 7,
     "metadata": {},
     "output_type": "execute_result"
    }
   ],
   "source": [
    "dataset"
   ]
  },
  {
   "cell_type": "markdown",
   "id": "02bee883",
   "metadata": {},
   "source": [
    "# Univariate Analysis"
   ]
  },
  {
   "cell_type": "code",
   "execution_count": 8,
   "id": "1a48e8fe",
   "metadata": {},
   "outputs": [],
   "source": [
    "df_1=dataset.loc[dataset['Age']==20]\n",
    "df_2=dataset.loc[dataset['Age']==32]\n",
    "df_3=dataset.loc[dataset['Age']==35]"
   ]
  },
  {
   "cell_type": "code",
   "execution_count": 9,
   "id": "c29bbeec",
   "metadata": {},
   "outputs": [
    {
     "data": {
      "image/png": "[encoded data removed]",
      "text/plain": [
       "<Figure size 432x288 with 1 Axes>"
      ]
     },
     "metadata": {
      "needs_background": "light"
     },
     "output_type": "display_data"
    }
   ],
   "source": [
    "plt.plot(df_1['Gender'],np.zeros_like(df_1['Gender']))\n",
    "plt.plot(df_2['Gender'],np.zeros_like(df_2['Gender']))\n",
    "plt.plot(df_3['Gender'],np.zeros_like(df_3['Gender']))\n",
    "plt.xlabel('Gender')\n",
    "plt.show()"
   ]
  },
  {
   "cell_type": "markdown",
   "id": "d31369b7",
   "metadata": {},
   "source": [
    "# Bi-Variate Analysis"
   ]
  },
  {
   "cell_type": "code",
   "execution_count": 10,
   "id": "f8e454a8",
   "metadata": {},
   "outputs": [
    {
     "name": "stderr",
     "output_type": "stream",
     "text": [
      "C:\\Users\\Devi\\anaconda3\\lib\\site-packages\\seaborn\\axisgrid.py:337: UserWarning: The `size` parameter has been renamed to `height`; please update your code.\n",
      "  warnings.warn(msg, UserWarning)\n"
     ]
    },
    {
     "data": {
      "image/png": "[encoded data removed]",
      "text/plain": [
       "<Figure size 408.75x360 with 1 Axes>"
      ]
     },
     "metadata": {
      "needs_background": "light"
     },
     "output_type": "display_data"
    }
   ],
   "source": [
    "sns.FacetGrid(dataset,hue=\"Age\",size=5).map(plt.scatter,\"Gender\",\"Age\").add_legend();"
   ]
  },
  {
   "cell_type": "markdown",
   "id": "6e8d1183",
   "metadata": {},
   "source": [
    "# Multi-Variate Analysis"
   ]
  },
  {
   "cell_type": "code",
   "execution_count": 11,
   "id": "f21fac6c",
   "metadata": {},
   "outputs": [
    {
     "name": "stderr",
     "output_type": "stream",
     "text": [
      "C:\\Users\\Devi\\anaconda3\\lib\\site-packages\\seaborn\\axisgrid.py:2076: UserWarning: The `size` parameter has been renamed to `height`; please update your code.\n",
      "  warnings.warn(msg, UserWarning)\n"
     ]
    },
    {
     "data": {
      "text/plain": [
       "<seaborn.axisgrid.PairGrid at 0x23821309490>"
      ]
     },
     "execution_count": 11,
     "metadata": {},
     "output_type": "execute_result"
    },
    {
     "data": {
      "image/png": "[encoded data removed]",
      "text/plain": [
       "<Figure size 1128.75x1080 with 12 Axes>"
      ]
     },
     "metadata": {
      "needs_background": "light"
     },
     "output_type": "display_data"
    }
   ],
   "source": [
    "sns.pairplot(dataset,hue=\"Age\",size=5)"
   ]
  },
  {
   "cell_type": "markdown",
   "id": "902a5105",
   "metadata": {},
   "source": [
    "# Descriptive statistics"
   ]
  },
  {
   "cell_type": "code",
   "execution_count": 12,
   "id": "166e1355",
   "metadata": {},
   "outputs": [
    {
     "data": {
      "text/plain": [
       "CustomerID                                                            20100\n",
       "Gender                    MaleMaleFemaleFemaleFemaleFemaleFemaleFemaleMa...\n",
       "Age                                                                    7770\n",
       "Annual Income (k$)                                                    12112\n",
       "Spending Score (1-100)                                                10040\n",
       "dtype: object"
      ]
     },
     "execution_count": 12,
     "metadata": {},
     "output_type": "execute_result"
    }
   ],
   "source": [
    "dataset.sum()"
   ]
  },
  {
   "cell_type": "code",
   "execution_count": 13,
   "id": "8591c3f7",
   "metadata": {},
   "outputs": [
    {
     "name": "stderr",
     "output_type": "stream",
     "text": [
      "C:\\Users\\Devi\\AppData\\Local\\Temp\\ipykernel_7092\\3445892410.py:1: FutureWarning: Dropping of nuisance columns in DataFrame reductions (with 'numeric_only=None') is deprecated; in a future version this will raise TypeError.  Select only valid columns before calling the reduction.\n",
      "  dataset.sum(axis=1)\n"
     ]
    },
    {
     "data": {
      "text/plain": [
       "0       74\n",
       "1      119\n",
       "2       45\n",
       "3      120\n",
       "4       93\n",
       "      ... \n",
       "195    430\n",
       "196    396\n",
       "197    430\n",
       "198    386\n",
       "199    450\n",
       "Length: 200, dtype: int64"
      ]
     },
     "execution_count": 13,
     "metadata": {},
     "output_type": "execute_result"
    }
   ],
   "source": [
    "dataset.sum(axis=1)"
   ]
  },
  {
   "cell_type": "code",
   "execution_count": 14,
   "id": "e2a3b188",
   "metadata": {},
   "outputs": [
    {
     "name": "stderr",
     "output_type": "stream",
     "text": [
      "C:\\Users\\Devi\\AppData\\Local\\Temp\\ipykernel_7092\\4167803218.py:1: FutureWarning: Dropping of nuisance columns in DataFrame reductions (with 'numeric_only=None') is deprecated; in a future version this will raise TypeError.  Select only valid columns before calling the reduction.\n",
      "  dataset.median()\n"
     ]
    },
    {
     "data": {
      "text/plain": [
       "CustomerID                100.5\n",
       "Age                        36.0\n",
       "Annual Income (k$)         61.5\n",
       "Spending Score (1-100)     50.0\n",
       "dtype: float64"
      ]
     },
     "execution_count": 14,
     "metadata": {},
     "output_type": "execute_result"
    }
   ],
   "source": [
    "dataset.median()"
   ]
  },
  {
   "cell_type": "code",
   "execution_count": 15,
   "id": "496e07a7",
   "metadata": {},
   "outputs": [
    {
     "name": "stderr",
     "output_type": "stream",
     "text": [
      "C:\\Users\\Devi\\AppData\\Local\\Temp\\ipykernel_7092\\1799472221.py:1: FutureWarning: Dropping of nuisance columns in DataFrame reductions (with 'numeric_only=None') is deprecated; in a future version this will raise TypeError.  Select only valid columns before calling the reduction.\n",
      "  dataset.mean()\n"
     ]
    },
    {
     "data": {
      "text/plain": [
       "CustomerID                100.50\n",
       "Age                        38.85\n",
       "Annual Income (k$)         60.56\n",
       "Spending Score (1-100)     50.20\n",
       "dtype: float64"
      ]
     },
     "execution_count": 15,
     "metadata": {},
     "output_type": "execute_result"
    }
   ],
   "source": [
    "dataset.mean()"
   ]
  },
  {
   "cell_type": "code",
   "execution_count": 16,
   "id": "130a44ff",
   "metadata": {},
   "outputs": [
    {
     "data": {
      "text/plain": [
       "CustomerID                 200\n",
       "Gender                    Male\n",
       "Age                         70\n",
       "Annual Income (k$)         137\n",
       "Spending Score (1-100)      99\n",
       "dtype: object"
      ]
     },
     "execution_count": 16,
     "metadata": {},
     "output_type": "execute_result"
    }
   ],
   "source": [
    "dataset.max()"
   ]
  },
  {
   "cell_type": "code",
   "execution_count": 17,
   "id": "35e4be73",
   "metadata": {},
   "outputs": [
    {
     "name": "stderr",
     "output_type": "stream",
     "text": [
      "C:\\Users\\Devi\\AppData\\Local\\Temp\\ipykernel_7092\\178401259.py:1: FutureWarning: Dropping of nuisance columns in DataFrame reductions (with 'numeric_only=None') is deprecated; in a future version this will raise TypeError.  Select only valid columns before calling the reduction.\n",
      "  dataset.std()\n"
     ]
    },
    {
     "data": {
      "text/plain": [
       "CustomerID                57.879185\n",
       "Age                       13.969007\n",
       "Annual Income (k$)        26.264721\n",
       "Spending Score (1-100)    25.823522\n",
       "dtype: float64"
      ]
     },
     "execution_count": 17,
     "metadata": {},
     "output_type": "execute_result"
    }
   ],
   "source": [
    "dataset.std()"
   ]
  },
  {
   "cell_type": "code",
   "execution_count": 18,
   "id": "b2a41ee5",
   "metadata": {},
   "outputs": [
    {
     "name": "stderr",
     "output_type": "stream",
     "text": [
      "C:\\Users\\Devi\\AppData\\Local\\Temp\\ipykernel_7092\\2458428038.py:1: FutureWarning: Dropping of nuisance columns in DataFrame reductions (with 'numeric_only=None') is deprecated; in a future version this will raise TypeError.  Select only valid columns before calling the reduction.\n",
      "  dataset.var()\n"
     ]
    },
    {
     "data": {
      "text/plain": [
       "CustomerID                3350.000000\n",
       "Age                        195.133166\n",
       "Annual Income (k$)         689.835578\n",
       "Spending Score (1-100)     666.854271\n",
       "dtype: float64"
      ]
     },
     "execution_count": 18,
     "metadata": {},
     "output_type": "execute_result"
    }
   ],
   "source": [
    "dataset.var()"
   ]
  },
  {
   "cell_type": "code",
   "execution_count": 19,
   "id": "cf114bf8",
   "metadata": {},
   "outputs": [
    {
     "data": {
      "text/plain": [
       "32    11\n",
       "35     9\n",
       "19     8\n",
       "31     8\n",
       "30     7\n",
       "49     7\n",
       "40     6\n",
       "38     6\n",
       "47     6\n",
       "27     6\n",
       "36     6\n",
       "23     6\n",
       "34     5\n",
       "20     5\n",
       "29     5\n",
       "50     5\n",
       "48     5\n",
       "21     5\n",
       "24     4\n",
       "18     4\n",
       "28     4\n",
       "67     4\n",
       "59     4\n",
       "54     4\n",
       "43     3\n",
       "60     3\n",
       "45     3\n",
       "39     3\n",
       "33     3\n",
       "37     3\n",
       "22     3\n",
       "25     3\n",
       "46     3\n",
       "68     3\n",
       "52     2\n",
       "44     2\n",
       "66     2\n",
       "57     2\n",
       "26     2\n",
       "53     2\n",
       "42     2\n",
       "63     2\n",
       "70     2\n",
       "51     2\n",
       "58     2\n",
       "65     2\n",
       "41     2\n",
       "55     1\n",
       "69     1\n",
       "64     1\n",
       "56     1\n",
       "Name: Age, dtype: int64"
      ]
     },
     "execution_count": 19,
     "metadata": {},
     "output_type": "execute_result"
    }
   ],
   "source": [
    "Age=dataset.Age\n",
    "Age.value_counts()"
   ]
  },
  {
   "cell_type": "code",
   "execution_count": 20,
   "id": "649f0373",
   "metadata": {},
   "outputs": [
    {
     "data": {
      "text/html": [
       "<div>\n",
       "<style scoped>\n",
       "    .dataframe tbody tr th:only-of-type {\n",
       "        vertical-align: middle;\n",
       "    }\n",
       "\n",
       "    .dataframe tbody tr th {\n",
       "        vertical-align: top;\n",
       "    }\n",
       "\n",
       "    .dataframe thead th {\n",
       "        text-align: right;\n",
       "    }\n",
       "</style>\n",
       "<table border=\"1\" class=\"dataframe\">\n",
       "  <thead>\n",
       "    <tr style=\"text-align: right;\">\n",
       "      <th></th>\n",
       "      <th>CustomerID</th>\n",
       "      <th>Age</th>\n",
       "      <th>Annual Income (k$)</th>\n",
       "      <th>Spending Score (1-100)</th>\n",
       "    </tr>\n",
       "  </thead>\n",
       "  <tbody>\n",
       "    <tr>\n",
       "      <th>count</th>\n",
       "      <td>200.000000</td>\n",
       "      <td>200.000000</td>\n",
       "      <td>200.000000</td>\n",
       "      <td>200.000000</td>\n",
       "    </tr>\n",
       "    <tr>\n",
       "      <th>mean</th>\n",
       "      <td>100.500000</td>\n",
       "      <td>38.850000</td>\n",
       "      <td>60.560000</td>\n",
       "      <td>50.200000</td>\n",
       "    </tr>\n",
       "    <tr>\n",
       "      <th>std</th>\n",
       "      <td>57.879185</td>\n",
       "      <td>13.969007</td>\n",
       "      <td>26.264721</td>\n",
       "      <td>25.823522</td>\n",
       "    </tr>\n",
       "    <tr>\n",
       "      <th>min</th>\n",
       "      <td>1.000000</td>\n",
       "      <td>18.000000</td>\n",
       "      <td>15.000000</td>\n",
       "      <td>1.000000</td>\n",
       "    </tr>\n",
       "    <tr>\n",
       "      <th>25%</th>\n",
       "      <td>50.750000</td>\n",
       "      <td>28.750000</td>\n",
       "      <td>41.500000</td>\n",
       "      <td>34.750000</td>\n",
       "    </tr>\n",
       "    <tr>\n",
       "      <th>50%</th>\n",
       "      <td>100.500000</td>\n",
       "      <td>36.000000</td>\n",
       "      <td>61.500000</td>\n",
       "      <td>50.000000</td>\n",
       "    </tr>\n",
       "    <tr>\n",
       "      <th>75%</th>\n",
       "      <td>150.250000</td>\n",
       "      <td>49.000000</td>\n",
       "      <td>78.000000</td>\n",
       "      <td>73.000000</td>\n",
       "    </tr>\n",
       "    <tr>\n",
       "      <th>max</th>\n",
       "      <td>200.000000</td>\n",
       "      <td>70.000000</td>\n",
       "      <td>137.000000</td>\n",
       "      <td>99.000000</td>\n",
       "    </tr>\n",
       "  </tbody>\n",
       "</table>\n",
       "</div>"
      ],
      "text/plain": [
       "       CustomerID         Age  Annual Income (k$)  Spending Score (1-100)\n",
       "count  200.000000  200.000000          200.000000              200.000000\n",
       "mean   100.500000   38.850000           60.560000               50.200000\n",
       "std     57.879185   13.969007           26.264721               25.823522\n",
       "min      1.000000   18.000000           15.000000                1.000000\n",
       "25%     50.750000   28.750000           41.500000               34.750000\n",
       "50%    100.500000   36.000000           61.500000               50.000000\n",
       "75%    150.250000   49.000000           78.000000               73.000000\n",
       "max    200.000000   70.000000          137.000000               99.000000"
      ]
     },
     "execution_count": 20,
     "metadata": {},
     "output_type": "execute_result"
    }
   ],
   "source": [
    "dataset.describe()"
   ]
  },
  {
   "cell_type": "markdown",
   "id": "63fbbb7a",
   "metadata": {},
   "source": [
    "# Missing values"
   ]
  },
  {
   "cell_type": "code",
   "execution_count": 21,
   "id": "b9eed78e",
   "metadata": {},
   "outputs": [
    {
     "data": {
      "text/plain": [
       "(200, 5)"
      ]
     },
     "execution_count": 21,
     "metadata": {},
     "output_type": "execute_result"
    }
   ],
   "source": [
    "dataset.shape"
   ]
  },
  {
   "cell_type": "code",
   "execution_count": 22,
   "id": "972cae38",
   "metadata": {},
   "outputs": [
    {
     "data": {
      "text/html": [
       "<div>\n",
       "<style scoped>\n",
       "    .dataframe tbody tr th:only-of-type {\n",
       "        vertical-align: middle;\n",
       "    }\n",
       "\n",
       "    .dataframe tbody tr th {\n",
       "        vertical-align: top;\n",
       "    }\n",
       "\n",
       "    .dataframe thead th {\n",
       "        text-align: right;\n",
       "    }\n",
       "</style>\n",
       "<table border=\"1\" class=\"dataframe\">\n",
       "  <thead>\n",
       "    <tr style=\"text-align: right;\">\n",
       "      <th></th>\n",
       "      <th>CustomerID</th>\n",
       "      <th>Gender</th>\n",
       "      <th>Age</th>\n",
       "      <th>Annual Income (k$)</th>\n",
       "      <th>Spending Score (1-100)</th>\n",
       "    </tr>\n",
       "  </thead>\n",
       "  <tbody>\n",
       "    <tr>\n",
       "      <th>0</th>\n",
       "      <td>False</td>\n",
       "      <td>False</td>\n",
       "      <td>False</td>\n",
       "      <td>False</td>\n",
       "      <td>False</td>\n",
       "    </tr>\n",
       "    <tr>\n",
       "      <th>1</th>\n",
       "      <td>False</td>\n",
       "      <td>False</td>\n",
       "      <td>False</td>\n",
       "      <td>False</td>\n",
       "      <td>False</td>\n",
       "    </tr>\n",
       "    <tr>\n",
       "      <th>2</th>\n",
       "      <td>False</td>\n",
       "      <td>False</td>\n",
       "      <td>False</td>\n",
       "      <td>False</td>\n",
       "      <td>False</td>\n",
       "    </tr>\n",
       "    <tr>\n",
       "      <th>3</th>\n",
       "      <td>False</td>\n",
       "      <td>False</td>\n",
       "      <td>False</td>\n",
       "      <td>False</td>\n",
       "      <td>False</td>\n",
       "    </tr>\n",
       "    <tr>\n",
       "      <th>4</th>\n",
       "      <td>False</td>\n",
       "      <td>False</td>\n",
       "      <td>False</td>\n",
       "      <td>False</td>\n",
       "      <td>False</td>\n",
       "    </tr>\n",
       "    <tr>\n",
       "      <th>...</th>\n",
       "      <td>...</td>\n",
       "      <td>...</td>\n",
       "      <td>...</td>\n",
       "      <td>...</td>\n",
       "      <td>...</td>\n",
       "    </tr>\n",
       "    <tr>\n",
       "      <th>195</th>\n",
       "      <td>False</td>\n",
       "      <td>False</td>\n",
       "      <td>False</td>\n",
       "      <td>False</td>\n",
       "      <td>False</td>\n",
       "    </tr>\n",
       "    <tr>\n",
       "      <th>196</th>\n",
       "      <td>False</td>\n",
       "      <td>False</td>\n",
       "      <td>False</td>\n",
       "      <td>False</td>\n",
       "      <td>False</td>\n",
       "    </tr>\n",
       "    <tr>\n",
       "      <th>197</th>\n",
       "      <td>False</td>\n",
       "      <td>False</td>\n",
       "      <td>False</td>\n",
       "      <td>False</td>\n",
       "      <td>False</td>\n",
       "    </tr>\n",
       "    <tr>\n",
       "      <th>198</th>\n",
       "      <td>False</td>\n",
       "      <td>False</td>\n",
       "      <td>False</td>\n",
       "      <td>False</td>\n",
       "      <td>False</td>\n",
       "    </tr>\n",
       "    <tr>\n",
       "      <th>199</th>\n",
       "      <td>False</td>\n",
       "      <td>False</td>\n",
       "      <td>False</td>\n",
       "      <td>False</td>\n",
       "      <td>False</td>\n",
       "    </tr>\n",
       "  </tbody>\n",
       "</table>\n",
       "<p>200 rows × 5 columns</p>\n",
       "</div>"
      ],
      "text/plain": [
       "     CustomerID  Gender    Age  Annual Income (k$)  Spending Score (1-100)\n",
       "0         False   False  False               False                   False\n",
       "1         False   False  False               False                   False\n",
       "2         False   False  False               False                   False\n",
       "3         False   False  False               False                   False\n",
       "4         False   False  False               False                   False\n",
       "..          ...     ...    ...                 ...                     ...\n",
       "195       False   False  False               False                   False\n",
       "196       False   False  False               False                   False\n",
       "197       False   False  False               False                   False\n",
       "198       False   False  False               False                   False\n",
       "199       False   False  False               False                   False\n",
       "\n",
       "[200 rows x 5 columns]"
      ]
     },
     "execution_count": 22,
     "metadata": {},
     "output_type": "execute_result"
    }
   ],
   "source": [
    "dataset.isnull()"
   ]
  },
  {
   "cell_type": "code",
   "execution_count": 23,
   "id": "1db0a940",
   "metadata": {},
   "outputs": [
    {
     "data": {
      "text/plain": [
       "CustomerID                0\n",
       "Gender                    0\n",
       "Age                       0\n",
       "Annual Income (k$)        0\n",
       "Spending Score (1-100)    0\n",
       "dtype: int64"
      ]
     },
     "execution_count": 23,
     "metadata": {},
     "output_type": "execute_result"
    }
   ],
   "source": [
    "dataset.isnull().sum()"
   ]
  },
  {
   "cell_type": "code",
   "execution_count": 24,
   "id": "70c41685",
   "metadata": {},
   "outputs": [
    {
     "data": {
      "text/plain": [
       "0"
      ]
     },
     "execution_count": 24,
     "metadata": {},
     "output_type": "execute_result"
    }
   ],
   "source": [
    "dataset.isnull().sum().sum()"
   ]
  },
  {
   "cell_type": "markdown",
   "id": "cb2577d3",
   "metadata": {},
   "source": [
    "# outliers"
   ]
  },
  {
   "cell_type": "code",
   "execution_count": 25,
   "id": "03b4f82c",
   "metadata": {},
   "outputs": [
    {
     "data": {
      "text/plain": [
       "<seaborn.axisgrid.FacetGrid at 0x238231f9940>"
      ]
     },
     "execution_count": 25,
     "metadata": {},
     "output_type": "execute_result"
    },
    {
     "data": {
      "image/png": "[encoded data removed]",
      "text/plain": [
       "<Figure size 360x360 with 1 Axes>"
      ]
     },
     "metadata": {
      "needs_background": "light"
     },
     "output_type": "display_data"
    }
   ],
   "source": [
    "sns.displot(dataset['Gender'])"
   ]
  },
  {
   "cell_type": "code",
   "execution_count": 26,
   "id": "173488a4",
   "metadata": {},
   "outputs": [
    {
     "data": {
      "text/plain": [
       "<AxesSubplot:xlabel='Gender', ylabel='Age'>"
      ]
     },
     "execution_count": 26,
     "metadata": {},
     "output_type": "execute_result"
    },
    {
     "data": {
      "image/png": "[encoded data removed]",
      "text/plain": [
       "<Figure size 432x288 with 1 Axes>"
      ]
     },
     "metadata": {
      "needs_background": "light"
     },
     "output_type": "display_data"
    }
   ],
   "source": [
    "sns.boxplot(x='Gender',y='Age',data=dataset)"
   ]
  },
  {
   "cell_type": "code",
   "execution_count": 27,
   "id": "4e0ef9db",
   "metadata": {},
   "outputs": [
    {
     "data": {
      "text/plain": [
       "<AxesSubplot:ylabel='Age'>"
      ]
     },
     "execution_count": 27,
     "metadata": {},
     "output_type": "execute_result"
    },
    {
     "data": {
      "image/png": "[encoded data removed]",
      "text/plain": [
       "<Figure size 432x288 with 1 Axes>"
      ]
     },
     "metadata": {
      "needs_background": "light"
     },
     "output_type": "display_data"
    }
   ],
   "source": [
    "sns.boxplot(y='Age',data=dataset)"
   ]
  },
  {
   "cell_type": "code",
   "execution_count": 28,
   "id": "4d44de55",
   "metadata": {},
   "outputs": [
    {
     "data": {
      "text/plain": [
       "38.85"
      ]
     },
     "execution_count": 28,
     "metadata": {},
     "output_type": "execute_result"
    }
   ],
   "source": [
    "dataset['Age'].mean()"
   ]
  },
  {
   "cell_type": "code",
   "execution_count": 29,
   "id": "f784afea",
   "metadata": {},
   "outputs": [],
   "source": [
    "data1=dataset[dataset['Age']<30]"
   ]
  },
  {
   "cell_type": "code",
   "execution_count": 30,
   "id": "fd4e8818",
   "metadata": {},
   "outputs": [
    {
     "data": {
      "text/plain": [
       "<AxesSubplot:ylabel='Age'>"
      ]
     },
     "execution_count": 30,
     "metadata": {},
     "output_type": "execute_result"
    },
    {
     "data": {
      "image/png": "[encoded data removed]",
      "text/plain": [
       "<Figure size 432x288 with 1 Axes>"
      ]
     },
     "metadata": {
      "needs_background": "light"
     },
     "output_type": "display_data"
    }
   ],
   "source": [
    "sns.boxplot(y='Age',data=data1)"
   ]
  },
  {
   "cell_type": "markdown",
   "id": "16808093",
   "metadata": {},
   "source": [
    "# Categorial Encoding"
   ]
  },
  {
   "cell_type": "code",
   "execution_count": 31,
   "id": "fc509868",
   "metadata": {},
   "outputs": [
    {
     "data": {
      "text/html": [
       "<div>\n",
       "<style scoped>\n",
       "    .dataframe tbody tr th:only-of-type {\n",
       "        vertical-align: middle;\n",
       "    }\n",
       "\n",
       "    .dataframe tbody tr th {\n",
       "        vertical-align: top;\n",
       "    }\n",
       "\n",
       "    .dataframe thead th {\n",
       "        text-align: right;\n",
       "    }\n",
       "</style>\n",
       "<table border=\"1\" class=\"dataframe\">\n",
       "  <thead>\n",
       "    <tr style=\"text-align: right;\">\n",
       "      <th></th>\n",
       "      <th>CustomerID</th>\n",
       "      <th>Age</th>\n",
       "      <th>Annual Income (k$)</th>\n",
       "      <th>Spending Score (1-100)</th>\n",
       "      <th>Gender_Female</th>\n",
       "      <th>Gender_Male</th>\n",
       "    </tr>\n",
       "  </thead>\n",
       "  <tbody>\n",
       "    <tr>\n",
       "      <th>0</th>\n",
       "      <td>1</td>\n",
       "      <td>19</td>\n",
       "      <td>15</td>\n",
       "      <td>39</td>\n",
       "      <td>0</td>\n",
       "      <td>1</td>\n",
       "    </tr>\n",
       "    <tr>\n",
       "      <th>1</th>\n",
       "      <td>2</td>\n",
       "      <td>21</td>\n",
       "      <td>15</td>\n",
       "      <td>81</td>\n",
       "      <td>0</td>\n",
       "      <td>1</td>\n",
       "    </tr>\n",
       "    <tr>\n",
       "      <th>2</th>\n",
       "      <td>3</td>\n",
       "      <td>20</td>\n",
       "      <td>16</td>\n",
       "      <td>6</td>\n",
       "      <td>1</td>\n",
       "      <td>0</td>\n",
       "    </tr>\n",
       "    <tr>\n",
       "      <th>3</th>\n",
       "      <td>4</td>\n",
       "      <td>23</td>\n",
       "      <td>16</td>\n",
       "      <td>77</td>\n",
       "      <td>1</td>\n",
       "      <td>0</td>\n",
       "    </tr>\n",
       "    <tr>\n",
       "      <th>4</th>\n",
       "      <td>5</td>\n",
       "      <td>31</td>\n",
       "      <td>17</td>\n",
       "      <td>40</td>\n",
       "      <td>1</td>\n",
       "      <td>0</td>\n",
       "    </tr>\n",
       "    <tr>\n",
       "      <th>...</th>\n",
       "      <td>...</td>\n",
       "      <td>...</td>\n",
       "      <td>...</td>\n",
       "      <td>...</td>\n",
       "      <td>...</td>\n",
       "      <td>...</td>\n",
       "    </tr>\n",
       "    <tr>\n",
       "      <th>195</th>\n",
       "      <td>196</td>\n",
       "      <td>35</td>\n",
       "      <td>120</td>\n",
       "      <td>79</td>\n",
       "      <td>1</td>\n",
       "      <td>0</td>\n",
       "    </tr>\n",
       "    <tr>\n",
       "      <th>196</th>\n",
       "      <td>197</td>\n",
       "      <td>45</td>\n",
       "      <td>126</td>\n",
       "      <td>28</td>\n",
       "      <td>1</td>\n",
       "      <td>0</td>\n",
       "    </tr>\n",
       "    <tr>\n",
       "      <th>197</th>\n",
       "      <td>198</td>\n",
       "      <td>32</td>\n",
       "      <td>126</td>\n",
       "      <td>74</td>\n",
       "      <td>0</td>\n",
       "      <td>1</td>\n",
       "    </tr>\n",
       "    <tr>\n",
       "      <th>198</th>\n",
       "      <td>199</td>\n",
       "      <td>32</td>\n",
       "      <td>137</td>\n",
       "      <td>18</td>\n",
       "      <td>0</td>\n",
       "      <td>1</td>\n",
       "    </tr>\n",
       "    <tr>\n",
       "      <th>199</th>\n",
       "      <td>200</td>\n",
       "      <td>30</td>\n",
       "      <td>137</td>\n",
       "      <td>83</td>\n",
       "      <td>0</td>\n",
       "      <td>1</td>\n",
       "    </tr>\n",
       "  </tbody>\n",
       "</table>\n",
       "<p>200 rows × 6 columns</p>\n",
       "</div>"
      ],
      "text/plain": [
       "     CustomerID  Age  Annual Income (k$)  Spending Score (1-100)  \\\n",
       "0             1   19                  15                      39   \n",
       "1             2   21                  15                      81   \n",
       "2             3   20                  16                       6   \n",
       "3             4   23                  16                      77   \n",
       "4             5   31                  17                      40   \n",
       "..          ...  ...                 ...                     ...   \n",
       "195         196   35                 120                      79   \n",
       "196         197   45                 126                      28   \n",
       "197         198   32                 126                      74   \n",
       "198         199   32                 137                      18   \n",
       "199         200   30                 137                      83   \n",
       "\n",
       "     Gender_Female  Gender_Male  \n",
       "0                0            1  \n",
       "1                0            1  \n",
       "2                1            0  \n",
       "3                1            0  \n",
       "4                1            0  \n",
       "..             ...          ...  \n",
       "195              1            0  \n",
       "196              1            0  \n",
       "197              0            1  \n",
       "198              0            1  \n",
       "199              0            1  \n",
       "\n",
       "[200 rows x 6 columns]"
      ]
     },
     "execution_count": 31,
     "metadata": {},
     "output_type": "execute_result"
    }
   ],
   "source": [
    "data_tips=pd.get_dummies(dataset)\n",
    "data_tips"
   ]
  },
  {
   "cell_type": "code",
   "execution_count": 32,
   "id": "5f0e4ee5",
   "metadata": {},
   "outputs": [
    {
     "data": {
      "text/plain": [
       "array([[0., 1., 0., ..., 0., 0., 0.],\n",
       "       [0., 1., 0., ..., 0., 0., 0.],\n",
       "       [1., 0., 0., ..., 0., 0., 0.],\n",
       "       ...,\n",
       "       [0., 1., 0., ..., 0., 0., 0.],\n",
       "       [0., 1., 0., ..., 0., 0., 0.],\n",
       "       [0., 1., 0., ..., 0., 0., 0.]])"
      ]
     },
     "execution_count": 32,
     "metadata": {},
     "output_type": "execute_result"
    }
   ],
   "source": [
    "one_encde=OneHotEncoder(sparse=False)\n",
    "encoded_arr=one_encde.fit_transform(dataset[['Gender','Age']])\n",
    "encoded_arr"
   ]
  },
  {
   "cell_type": "markdown",
   "id": "b572ecfb",
   "metadata": {},
   "source": [
    "# Split the data into dependent and independent variables"
   ]
  },
  {
   "cell_type": "code",
   "execution_count": 33,
   "id": "01d97e61",
   "metadata": {},
   "outputs": [
    {
     "data": {
      "text/plain": [
       "0      39\n",
       "1      81\n",
       "2       6\n",
       "3      77\n",
       "4      40\n",
       "       ..\n",
       "195    79\n",
       "196    28\n",
       "197    74\n",
       "198    18\n",
       "199    83\n",
       "Name: Spending Score (1-100), Length: 200, dtype: int64"
      ]
     },
     "execution_count": 33,
     "metadata": {},
     "output_type": "execute_result"
    }
   ],
   "source": [
    "x=dataset.iloc[:,1:4]\n",
    "y=dataset.iloc[:,4]\n",
    "x\n",
    "y"
   ]
  },
  {
   "cell_type": "markdown",
   "id": "92095852",
   "metadata": {},
   "source": [
    "# Scale the independent variables"
   ]
  },
  {
   "cell_type": "code",
   "execution_count": 34,
   "id": "a3cbf9a0",
   "metadata": {},
   "outputs": [],
   "source": [
    "independent=dataset.iloc[1:,1:7].values"
   ]
  },
  {
   "cell_type": "code",
   "execution_count": 35,
   "id": "1c20accc",
   "metadata": {},
   "outputs": [
    {
     "data": {
      "text/plain": [
       "array([['Male', 21, 15, 81],\n",
       "       ['Female', 20, 16, 6],\n",
       "       ['Female', 23, 16, 77],\n",
       "       ['Female', 31, 17, 40],\n",
       "       ['Female', 22, 17, 76],\n",
       "       ['Female', 35, 18, 6],\n",
       "       ['Female', 23, 18, 94],\n",
       "       ['Male', 64, 19, 3],\n",
       "       ['Female', 30, 19, 72],\n",
       "       ['Male', 67, 19, 14],\n",
       "       ['Female', 35, 19, 99],\n",
       "       ['Female', 58, 20, 15],\n",
       "       ['Female', 24, 20, 77],\n",
       "       ['Male', 37, 20, 13],\n",
       "       ['Male', 22, 20, 79],\n",
       "       ['Female', 35, 21, 35],\n",
       "       ['Male', 20, 21, 66],\n",
       "       ['Male', 52, 23, 29],\n",
       "       ['Female', 35, 23, 98],\n",
       "       ['Male', 35, 24, 35],\n",
       "       ['Male', 25, 24, 73],\n",
       "       ['Female', 46, 25, 5],\n",
       "       ['Male', 31, 25, 73],\n",
       "       ['Female', 54, 28, 14],\n",
       "       ['Male', 29, 28, 82],\n",
       "       ['Female', 45, 28, 32],\n",
       "       ['Male', 35, 28, 61],\n",
       "       ['Female', 40, 29, 31],\n",
       "       ['Female', 23, 29, 87],\n",
       "       ['Male', 60, 30, 4],\n",
       "       ['Female', 21, 30, 73],\n",
       "       ['Male', 53, 33, 4],\n",
       "       ['Male', 18, 33, 92],\n",
       "       ['Female', 49, 33, 14],\n",
       "       ['Female', 21, 33, 81],\n",
       "       ['Female', 42, 34, 17],\n",
       "       ['Female', 30, 34, 73],\n",
       "       ['Female', 36, 37, 26],\n",
       "       ['Female', 20, 37, 75],\n",
       "       ['Female', 65, 38, 35],\n",
       "       ['Male', 24, 38, 92],\n",
       "       ['Male', 48, 39, 36],\n",
       "       ['Female', 31, 39, 61],\n",
       "       ['Female', 49, 39, 28],\n",
       "       ['Female', 24, 39, 65],\n",
       "       ['Female', 50, 40, 55],\n",
       "       ['Female', 27, 40, 47],\n",
       "       ['Female', 29, 40, 42],\n",
       "       ['Female', 31, 40, 42],\n",
       "       ['Female', 49, 42, 52],\n",
       "       ['Male', 33, 42, 60],\n",
       "       ['Female', 31, 43, 54],\n",
       "       ['Male', 59, 43, 60],\n",
       "       ['Female', 50, 43, 45],\n",
       "       ['Male', 47, 43, 41],\n",
       "       ['Female', 51, 44, 50],\n",
       "       ['Male', 69, 44, 46],\n",
       "       ['Female', 27, 46, 51],\n",
       "       ['Male', 53, 46, 46],\n",
       "       ['Male', 70, 46, 56],\n",
       "       ['Male', 19, 46, 55],\n",
       "       ['Female', 67, 47, 52],\n",
       "       ['Female', 54, 47, 59],\n",
       "       ['Male', 63, 48, 51],\n",
       "       ['Male', 18, 48, 59],\n",
       "       ['Female', 43, 48, 50],\n",
       "       ['Female', 68, 48, 48],\n",
       "       ['Male', 19, 48, 59],\n",
       "       ['Female', 32, 48, 47],\n",
       "       ['Male', 70, 49, 55],\n",
       "       ['Female', 47, 49, 42],\n",
       "       ['Female', 60, 50, 49],\n",
       "       ['Female', 60, 50, 56],\n",
       "       ['Male', 59, 54, 47],\n",
       "       ['Male', 26, 54, 54],\n",
       "       ['Female', 45, 54, 53],\n",
       "       ['Male', 40, 54, 48],\n",
       "       ['Female', 23, 54, 52],\n",
       "       ['Female', 49, 54, 42],\n",
       "       ['Male', 57, 54, 51],\n",
       "       ['Male', 38, 54, 55],\n",
       "       ['Male', 67, 54, 41],\n",
       "       ['Female', 46, 54, 44],\n",
       "       ['Female', 21, 54, 57],\n",
       "       ['Male', 48, 54, 46],\n",
       "       ['Female', 55, 57, 58],\n",
       "       ['Female', 22, 57, 55],\n",
       "       ['Female', 34, 58, 60],\n",
       "       ['Female', 50, 58, 46],\n",
       "       ['Female', 68, 59, 55],\n",
       "       ['Male', 18, 59, 41],\n",
       "       ['Male', 48, 60, 49],\n",
       "       ['Female', 40, 60, 40],\n",
       "       ['Female', 32, 60, 42],\n",
       "       ['Male', 24, 60, 52],\n",
       "       ['Female', 47, 60, 47],\n",
       "       ['Female', 27, 60, 50],\n",
       "       ['Male', 48, 61, 42],\n",
       "       ['Male', 20, 61, 49],\n",
       "       ['Female', 23, 62, 41],\n",
       "       ['Female', 49, 62, 48],\n",
       "       ['Male', 67, 62, 59],\n",
       "       ['Male', 26, 62, 55],\n",
       "       ['Male', 49, 62, 56],\n",
       "       ['Female', 21, 62, 42],\n",
       "       ['Female', 66, 63, 50],\n",
       "       ['Male', 54, 63, 46],\n",
       "       ['Male', 68, 63, 43],\n",
       "       ['Male', 66, 63, 48],\n",
       "       ['Male', 65, 63, 52],\n",
       "       ['Female', 19, 63, 54],\n",
       "       ['Female', 38, 64, 42],\n",
       "       ['Male', 19, 64, 46],\n",
       "       ['Female', 18, 65, 48],\n",
       "       ['Female', 19, 65, 50],\n",
       "       ['Female', 63, 65, 43],\n",
       "       ['Female', 49, 65, 59],\n",
       "       ['Female', 51, 67, 43],\n",
       "       ['Female', 50, 67, 57],\n",
       "       ['Male', 27, 67, 56],\n",
       "       ['Female', 38, 67, 40],\n",
       "       ['Female', 40, 69, 58],\n",
       "       ['Male', 39, 69, 91],\n",
       "       ['Female', 23, 70, 29],\n",
       "       ['Female', 31, 70, 77],\n",
       "       ['Male', 43, 71, 35],\n",
       "       ['Male', 40, 71, 95],\n",
       "       ['Male', 59, 71, 11],\n",
       "       ['Male', 38, 71, 75],\n",
       "       ['Male', 47, 71, 9],\n",
       "       ['Male', 39, 71, 75],\n",
       "       ['Female', 25, 72, 34],\n",
       "       ['Female', 31, 72, 71],\n",
       "       ['Male', 20, 73, 5],\n",
       "       ['Female', 29, 73, 88],\n",
       "       ['Female', 44, 73, 7],\n",
       "       ['Male', 32, 73, 73],\n",
       "       ['Male', 19, 74, 10],\n",
       "       ['Female', 35, 74, 72],\n",
       "       ['Female', 57, 75, 5],\n",
       "       ['Male', 32, 75, 93],\n",
       "       ['Female', 28, 76, 40],\n",
       "       ['Female', 32, 76, 87],\n",
       "       ['Male', 25, 77, 12],\n",
       "       ['Male', 28, 77, 97],\n",
       "       ['Male', 48, 77, 36],\n",
       "       ['Female', 32, 77, 74],\n",
       "       ['Female', 34, 78, 22],\n",
       "       ['Male', 34, 78, 90],\n",
       "       ['Male', 43, 78, 17],\n",
       "       ['Male', 39, 78, 88],\n",
       "       ['Female', 44, 78, 20],\n",
       "       ['Female', 38, 78, 76],\n",
       "       ['Female', 47, 78, 16],\n",
       "       ['Female', 27, 78, 89],\n",
       "       ['Male', 37, 78, 1],\n",
       "       ['Female', 30, 78, 78],\n",
       "       ['Male', 34, 78, 1],\n",
       "       ['Female', 30, 78, 73],\n",
       "       ['Female', 56, 79, 35],\n",
       "       ['Female', 29, 79, 83],\n",
       "       ['Male', 19, 81, 5],\n",
       "       ['Female', 31, 81, 93],\n",
       "       ['Male', 50, 85, 26],\n",
       "       ['Female', 36, 85, 75],\n",
       "       ['Male', 42, 86, 20],\n",
       "       ['Female', 33, 86, 95],\n",
       "       ['Female', 36, 87, 27],\n",
       "       ['Male', 32, 87, 63],\n",
       "       ['Male', 40, 87, 13],\n",
       "       ['Male', 28, 87, 75],\n",
       "       ['Male', 36, 87, 10],\n",
       "       ['Male', 36, 87, 92],\n",
       "       ['Female', 52, 88, 13],\n",
       "       ['Female', 30, 88, 86],\n",
       "       ['Male', 58, 88, 15],\n",
       "       ['Male', 27, 88, 69],\n",
       "       ['Male', 59, 93, 14],\n",
       "       ['Male', 35, 93, 90],\n",
       "       ['Female', 37, 97, 32],\n",
       "       ['Female', 32, 97, 86],\n",
       "       ['Male', 46, 98, 15],\n",
       "       ['Female', 29, 98, 88],\n",
       "       ['Female', 41, 99, 39],\n",
       "       ['Male', 30, 99, 97],\n",
       "       ['Female', 54, 101, 24],\n",
       "       ['Male', 28, 101, 68],\n",
       "       ['Female', 41, 103, 17],\n",
       "       ['Female', 36, 103, 85],\n",
       "       ['Female', 34, 103, 23],\n",
       "       ['Female', 32, 103, 69],\n",
       "       ['Male', 33, 113, 8],\n",
       "       ['Female', 38, 113, 91],\n",
       "       ['Female', 47, 120, 16],\n",
       "       ['Female', 35, 120, 79],\n",
       "       ['Female', 45, 126, 28],\n",
       "       ['Male', 32, 126, 74],\n",
       "       ['Male', 32, 137, 18],\n",
       "       ['Male', 30, 137, 83]], dtype=object)"
      ]
     },
     "execution_count": 35,
     "metadata": {},
     "output_type": "execute_result"
    }
   ],
   "source": [
    "independent"
   ]
  },
  {
   "cell_type": "markdown",
   "id": "1febf64c",
   "metadata": {},
   "source": [
    "# Scale the dependent variables"
   ]
  },
  {
   "cell_type": "code",
   "execution_count": 36,
   "id": "094e9121",
   "metadata": {},
   "outputs": [
    {
     "data": {
      "text/plain": [
       "array([], shape=(199, 0), dtype=float64)"
      ]
     },
     "execution_count": 36,
     "metadata": {},
     "output_type": "execute_result"
    }
   ],
   "source": [
    "dependent=dataset.iloc[1:,9:].values\n",
    "dependent"
   ]
  },
  {
   "cell_type": "markdown",
   "id": "fbe3876f",
   "metadata": {},
   "source": [
    "# Clustering"
   ]
  },
  {
   "cell_type": "code",
   "execution_count": 37,
   "id": "a8238874",
   "metadata": {},
   "outputs": [
    {
     "data": {
      "text/plain": [
       "array([[-0.90068117,  1.01900435, -1.34022653, -1.3154443 ],\n",
       "       [-1.14301691, -0.13197948, -1.34022653, -1.3154443 ],\n",
       "       [-1.38535265,  0.32841405, -1.39706395, -1.3154443 ],\n",
       "       [-1.50652052,  0.09821729, -1.2833891 , -1.3154443 ],\n",
       "       [-1.02184904,  1.24920112, -1.34022653, -1.3154443 ],\n",
       "       [-0.53717756,  1.93979142, -1.16971425, -1.05217993],\n",
       "       [-1.50652052,  0.78880759, -1.34022653, -1.18381211],\n",
       "       [-1.02184904,  0.78880759, -1.2833891 , -1.3154443 ],\n",
       "       [-1.74885626, -0.36217625, -1.34022653, -1.3154443 ],\n",
       "       [-1.14301691,  0.09821729, -1.2833891 , -1.44707648]])"
      ]
     },
     "execution_count": 37,
     "metadata": {},
     "output_type": "execute_result"
    }
   ],
   "source": [
    "iris=datasets.load_iris()\n",
    "\n",
    "x=scale(iris.data)\n",
    "\n",
    "y=pd.DataFrame(iris.target)\n",
    "variable_names=iris.feature_names\n",
    "x[0:10,]"
   ]
  },
  {
   "cell_type": "markdown",
   "id": "d180dc23",
   "metadata": {},
   "source": [
    "# Building and running the Model"
   ]
  },
  {
   "cell_type": "code",
   "execution_count": 38,
   "id": "eb2fc94d",
   "metadata": {},
   "outputs": [
    {
     "data": {
      "text/plain": [
       "KMeans(n_clusters=3, random_state=5)"
      ]
     },
     "execution_count": 38,
     "metadata": {},
     "output_type": "execute_result"
    }
   ],
   "source": [
    "clustering=KMeans(n_clusters=3,random_state=5)\n",
    "clustering.fit(x)"
   ]
  },
  {
   "cell_type": "markdown",
   "id": "f1b0063f",
   "metadata": {},
   "source": [
    "# Plotting the model outputs"
   ]
  },
  {
   "cell_type": "code",
   "execution_count": 42,
   "id": "9f472191",
   "metadata": {},
   "outputs": [],
   "source": [
    "iris_df=pd.DataFrame(iris.data)\n",
    "iris_df.columns=['Sepal_Length','Sepal_Width','Petal_Length','Petal_Width']\n",
    "y.columns=['Targets']"
   ]
  },
  {
   "cell_type": "code",
   "execution_count": 43,
   "id": "99f96268",
   "metadata": {},
   "outputs": [
    {
     "data": {
      "text/plain": [
       "Text(0.5, 1.0, 'K-Means Classification')"
      ]
     },
     "execution_count": 43,
     "metadata": {},
     "output_type": "execute_result"
    },
    {
     "data": {
      "image/png": "[encoded data removed]",
      "text/plain": [
       "<Figure size 432x288 with 2 Axes>"
      ]
     },
     "metadata": {
      "needs_background": "light"
     },
     "output_type": "display_data"
    }
   ],
   "source": [
    "color_theme=np.array(['darkgray','lightsalmon','powderblue'])\n",
    "\n",
    "plt.subplot(1,2,1)\n",
    "\n",
    "plt.scatter(x=iris_df.Petal_Length, y=iris_df.Petal_Width, c=color_theme[iris.target],s=50)\n",
    "\n",
    "plt.title('Ground Truth Classification')\n",
    "\n",
    "plt.subplot(1,2,2)\n",
    "\n",
    "plt.scatter(x=iris_df.Petal_Length, y=iris_df.Petal_Width, c=color_theme[clustering.labels_],s=50)\n",
    "plt.title('K-Means Classification')"
   ]
  },
  {
   "cell_type": "code",
   "execution_count": 44,
   "id": "c90089ba",
   "metadata": {},
   "outputs": [
    {
     "data": {
      "text/plain": [
       "Text(0.5, 1.0, 'K-Means Classification')"
      ]
     },
     "execution_count": 44,
     "metadata": {},
     "output_type": "execute_result"
    },
    {
     "data": {
      "image/png": "[encoded data removed]",
      "text/plain": [
       "<Figure size 432x288 with 2 Axes>"
      ]
     },
     "metadata": {
      "needs_background": "light"
     },
     "output_type": "display_data"
    }
   ],
   "source": [
    "relabel=np.choose(clustering.labels_,[2,0,1]).astype(np.int64)\n",
    "plt.subplot(1,2,1)\n",
    "\n",
    "plt.scatter(x=iris_df.Petal_Length, y=iris_df.Petal_Width, c=color_theme[iris.target],s=50)\n",
    "\n",
    "plt.title('Ground Truth Classification')\n",
    "\n",
    "plt.subplot(1,2,2)\n",
    "\n",
    "plt.scatter(x=iris_df.Petal_Length, y=iris_df.Petal_Width, c=color_theme[clustering.labels_],s=50)\n",
    "plt.title('K-Means Classification')"
   ]
  },
  {
   "cell_type": "markdown",
   "id": "639d3d0f",
   "metadata": {},
   "source": [
    "# Evaluate your clustering results"
   ]
  },
  {
   "cell_type": "code",
   "execution_count": 45,
   "id": "4f89f0bd",
   "metadata": {},
   "outputs": [
    {
     "name": "stdout",
     "output_type": "stream",
     "text": [
      "              precision    recall  f1-score   support\n",
      "\n",
      "           0       1.00      1.00      1.00        50\n",
      "           1       0.74      0.78      0.76        50\n",
      "           2       0.77      0.72      0.74        50\n",
      "\n",
      "    accuracy                           0.83       150\n",
      "   macro avg       0.83      0.83      0.83       150\n",
      "weighted avg       0.83      0.83      0.83       150\n",
      "\n"
     ]
    }
   ],
   "source": [
    "print(classification_report(y,relabel))"
   ]
  },
  {
   "cell_type": "markdown",
   "id": "67f33efb",
   "metadata": {},
   "source": [
    "# Add the cluster data with the primary dataset\n"
   ]
  },
  {
   "cell_type": "code",
   "execution_count": 62,
   "id": "3becdc9f",
   "metadata": {},
   "outputs": [
    {
     "name": "stderr",
     "output_type": "stream",
     "text": [
      "C:\\Users\\Devi\\anaconda3\\lib\\site-packages\\sklearn\\cluster\\_kmeans.py:1036: UserWarning: KMeans is known to have a memory leak on Windows with MKL, when there are less chunks than available threads. You can avoid it by setting the environment variable OMP_NUM_THREADS=1.\n",
      "  warnings.warn(\n"
     ]
    },
    {
     "data": {
      "image/png": "[encoded data removed]",
      "text/plain": [
       "<Figure size 432x288 with 1 Axes>"
      ]
     },
     "metadata": {},
     "output_type": "display_data"
    }
   ],
   "source": [
    "X = dataset[['Age', 'Spending Score (1-100)']].copy()\n",
    "\n",
    "wcss = [] \n",
    "for i in range(1, 11): \n",
    "    kmeans = KMeans(n_clusters = i, init = 'k-means++', random_state = 42)\n",
    "    kmeans.fit(X) \n",
    "    wcss.append(kmeans.inertia_)\n",
    "    \n",
    "sns.set()\n",
    "\n",
    "plt.plot(range(1, 11), wcss)\n",
    "\n",
    "plt.title('Selecting the Numbeer of Clusters using the Elbow Method')\n",
    "\n",
    "plt.xlabel('Clusters')\n",
    "plt.ylabel('WCSS')\n",
    "plt.show()"
   ]
  },
  {
   "cell_type": "markdown",
   "id": "096ec11a",
   "metadata": {},
   "source": [
    "# Gaussian Mixture Model (GMM)"
   ]
  },
  {
   "cell_type": "code",
   "execution_count": 67,
   "id": "70f3b2e7",
   "metadata": {},
   "outputs": [
    {
     "data": {
      "image/png": "[encoded data removed]",
      "text/plain": [
       "<Figure size 432x288 with 1 Axes>"
      ]
     },
     "metadata": {},
     "output_type": "display_data"
    }
   ],
   "source": [
    "from sklearn.mixture import GaussianMixture\n",
    "n_clusters = 3\n",
    "gmm_model = GaussianMixture(n_components=n_clusters)\n",
    "gmm_model.fit(X)\n",
    "\n",
    "cluster_labels = gmm_model.predict(X)\n",
    "X = pd.DataFrame(X)\n",
    "X['cluster'] = cluster_labels\n",
    "\n",
    "for k in range(0,n_clusters):\n",
    "    data = X[X[\"cluster\"]==k]\n",
    "    plt.scatter(data[\"Age\"],data[\"Spending Score (1-100)\"])\n",
    "   \n",
    "plt.title(\"Clusters Identified by Guassian Mixture Model\")    \n",
    "plt.ylabel(\"Spending Score (1-100)\")\n",
    "plt.xlabel(\"Age\")\n",
    "plt.show()\n",
    "    "
   ]
  },
  {
   "cell_type": "markdown",
   "id": "66078f67",
   "metadata": {},
   "source": [
    "# Spectral Clustering"
   ]
  },
  {
   "cell_type": "code",
   "execution_count": 68,
   "id": "dcf9e922",
   "metadata": {},
   "outputs": [
    {
     "data": {
      "text/plain": [
       "[Text(0.5, 1.0, 'Spectral Clustering')]"
      ]
     },
     "execution_count": 68,
     "metadata": {},
     "output_type": "execute_result"
    },
    {
     "data": {
      "image/png": "[encoded data removed]",
      "text/plain": [
       "<Figure size 432x288 with 1 Axes>"
      ]
     },
     "metadata": {},
     "output_type": "display_data"
    }
   ],
   "source": [
    "from sklearn.cluster import SpectralClustering\n",
    "spectral_cluster_model= SpectralClustering(\n",
    "    n_clusters=5, \n",
    "    random_state=25, \n",
    "    n_neighbors=8, \n",
    "    affinity='nearest_neighbors'\n",
    ")\n",
    "X['cluster'] = spectral_cluster_model.fit_predict(X[['Age', 'Spending Score (1-100)']])\n",
    "\n",
    "fig, ax = plt.subplots()\n",
    "sns.scatterplot(x='Age', y='Spending Score (1-100)', data=X, hue='cluster', ax=ax)\n",
    "ax.set(title='Spectral Clustering')"
   ]
  },
  {
   "cell_type": "markdown",
   "id": "e347cb62",
   "metadata": {},
   "source": [
    "# Split the data into training and testing"
   ]
  },
  {
   "cell_type": "code",
   "execution_count": 69,
   "id": "1a80ddc9",
   "metadata": {},
   "outputs": [],
   "source": [
    "from sklearn.model_selection import train_test_split"
   ]
  },
  {
   "cell_type": "code",
   "execution_count": 70,
   "id": "64a2d84b",
   "metadata": {},
   "outputs": [],
   "source": [
    "x_train,x_test,y_train,y_test=train_test_split(independent,dependent,test_size=0.2,random_state=5)"
   ]
  },
  {
   "cell_type": "code",
   "execution_count": 71,
   "id": "5ecd31a6",
   "metadata": {},
   "outputs": [
    {
     "data": {
      "text/plain": [
       "array([['Female', 56, 79, 35],\n",
       "       ['Female', 54, 47, 59],\n",
       "       ['Male', 42, 86, 20],\n",
       "       ['Female', 50, 40, 55],\n",
       "       ['Female', 54, 28, 14],\n",
       "       ['Female', 20, 16, 6],\n",
       "       ['Female', 31, 81, 93],\n",
       "       ['Female', 31, 40, 42],\n",
       "       ['Female', 29, 79, 83],\n",
       "       ['Male', 40, 71, 95],\n",
       "       ['Female', 23, 70, 29],\n",
       "       ['Male', 68, 63, 43],\n",
       "       ['Female', 49, 39, 28],\n",
       "       ['Female', 38, 78, 76],\n",
       "       ['Female', 19, 65, 50],\n",
       "       ['Female', 27, 40, 47],\n",
       "       ['Male', 36, 87, 10],\n",
       "       ['Male', 26, 62, 55],\n",
       "       ['Female', 67, 47, 52],\n",
       "       ['Female', 63, 65, 43],\n",
       "       ['Male', 40, 87, 13],\n",
       "       ['Female', 54, 101, 24],\n",
       "       ['Male', 70, 46, 56],\n",
       "       ['Male', 30, 99, 97],\n",
       "       ['Female', 24, 20, 77],\n",
       "       ['Male', 26, 54, 54],\n",
       "       ['Female', 38, 67, 40],\n",
       "       ['Female', 32, 97, 86],\n",
       "       ['Male', 35, 24, 35],\n",
       "       ['Female', 27, 46, 51],\n",
       "       ['Female', 68, 48, 48],\n",
       "       ['Female', 35, 74, 72],\n",
       "       ['Male', 63, 48, 51],\n",
       "       ['Male', 32, 73, 73],\n",
       "       ['Male', 67, 62, 59],\n",
       "       ['Female', 68, 59, 55],\n",
       "       ['Female', 35, 21, 35],\n",
       "       ['Male', 27, 88, 69],\n",
       "       ['Female', 35, 19, 99],\n",
       "       ['Female', 27, 60, 50],\n",
       "       ['Male', 30, 137, 83],\n",
       "       ['Male', 36, 87, 92],\n",
       "       ['Female', 30, 34, 73],\n",
       "       ['Female', 47, 60, 47],\n",
       "       ['Female', 22, 17, 76],\n",
       "       ['Male', 20, 61, 49],\n",
       "       ['Female', 34, 58, 60],\n",
       "       ['Female', 21, 54, 57],\n",
       "       ['Female', 36, 87, 27],\n",
       "       ['Female', 38, 113, 91],\n",
       "       ['Male', 67, 54, 41],\n",
       "       ['Female', 38, 64, 42],\n",
       "       ['Male', 33, 113, 8],\n",
       "       ['Male', 59, 93, 14],\n",
       "       ['Male', 37, 20, 13],\n",
       "       ['Male', 39, 78, 88],\n",
       "       ['Male', 39, 71, 75],\n",
       "       ['Female', 60, 50, 56],\n",
       "       ['Female', 49, 42, 52],\n",
       "       ['Male', 25, 24, 73],\n",
       "       ['Female', 42, 34, 17],\n",
       "       ['Female', 47, 49, 42],\n",
       "       ['Male', 57, 54, 51],\n",
       "       ['Female', 40, 60, 40],\n",
       "       ['Male', 48, 61, 42],\n",
       "       ['Female', 50, 58, 46],\n",
       "       ['Male', 60, 30, 4],\n",
       "       ['Male', 48, 77, 36],\n",
       "       ['Male', 19, 46, 55],\n",
       "       ['Male', 59, 71, 11],\n",
       "       ['Male', 70, 49, 55],\n",
       "       ['Male', 59, 43, 60],\n",
       "       ['Male', 31, 25, 73],\n",
       "       ['Male', 34, 78, 1],\n",
       "       ['Male', 32, 87, 63],\n",
       "       ['Female', 45, 54, 53],\n",
       "       ['Male', 38, 71, 75],\n",
       "       ['Female', 36, 37, 26],\n",
       "       ['Female', 29, 98, 88],\n",
       "       ['Male', 18, 59, 41],\n",
       "       ['Female', 47, 120, 16],\n",
       "       ['Male', 18, 48, 59],\n",
       "       ['Male', 32, 75, 93],\n",
       "       ['Male', 35, 93, 90],\n",
       "       ['Female', 36, 103, 85],\n",
       "       ['Male', 28, 87, 75],\n",
       "       ['Female', 33, 86, 95],\n",
       "       ['Female', 46, 54, 44],\n",
       "       ['Female', 57, 75, 5],\n",
       "       ['Male', 40, 54, 48],\n",
       "       ['Male', 18, 33, 92],\n",
       "       ['Female', 30, 88, 86],\n",
       "       ['Male', 32, 126, 74],\n",
       "       ['Male', 20, 73, 5],\n",
       "       ['Female', 29, 40, 42],\n",
       "       ['Male', 32, 137, 18],\n",
       "       ['Male', 67, 19, 14],\n",
       "       ['Male', 19, 81, 5],\n",
       "       ['Male', 22, 20, 79],\n",
       "       ['Male', 24, 60, 52],\n",
       "       ['Male', 20, 21, 66],\n",
       "       ['Female', 47, 78, 16],\n",
       "       ['Female', 55, 57, 58],\n",
       "       ['Female', 49, 33, 14],\n",
       "       ['Female', 49, 54, 42],\n",
       "       ['Male', 48, 60, 49],\n",
       "       ['Female', 25, 72, 34],\n",
       "       ['Female', 31, 70, 77],\n",
       "       ['Male', 19, 48, 59],\n",
       "       ['Female', 58, 20, 15],\n",
       "       ['Male', 65, 63, 52],\n",
       "       ['Male', 66, 63, 48],\n",
       "       ['Female', 49, 62, 48],\n",
       "       ['Female', 44, 73, 7],\n",
       "       ['Male', 28, 101, 68],\n",
       "       ['Female', 35, 23, 98],\n",
       "       ['Female', 34, 78, 22],\n",
       "       ['Male', 50, 85, 26],\n",
       "       ['Female', 20, 37, 75],\n",
       "       ['Female', 32, 48, 47],\n",
       "       ['Female', 23, 16, 77],\n",
       "       ['Male', 53, 33, 4],\n",
       "       ['Female', 41, 99, 39],\n",
       "       ['Female', 66, 63, 50],\n",
       "       ['Female', 19, 63, 54],\n",
       "       ['Female', 31, 72, 71],\n",
       "       ['Male', 21, 15, 81],\n",
       "       ['Male', 53, 46, 46],\n",
       "       ['Female', 35, 18, 6],\n",
       "       ['Female', 45, 126, 28],\n",
       "       ['Male', 49, 62, 56],\n",
       "       ['Male', 47, 71, 9],\n",
       "       ['Male', 48, 39, 36],\n",
       "       ['Male', 54, 63, 46],\n",
       "       ['Male', 19, 74, 10],\n",
       "       ['Female', 40, 69, 58],\n",
       "       ['Female', 32, 77, 74],\n",
       "       ['Male', 43, 71, 35],\n",
       "       ['Female', 22, 57, 55],\n",
       "       ['Female', 21, 30, 73],\n",
       "       ['Male', 58, 88, 15],\n",
       "       ['Female', 43, 48, 50],\n",
       "       ['Female', 24, 39, 65],\n",
       "       ['Female', 40, 29, 31],\n",
       "       ['Male', 38, 54, 55],\n",
       "       ['Male', 46, 98, 15],\n",
       "       ['Female', 18, 65, 48],\n",
       "       ['Male', 25, 77, 12],\n",
       "       ['Male', 64, 19, 3],\n",
       "       ['Female', 30, 78, 73],\n",
       "       ['Male', 19, 64, 46],\n",
       "       ['Male', 37, 78, 1],\n",
       "       ['Female', 32, 103, 69],\n",
       "       ['Female', 30, 19, 72],\n",
       "       ['Male', 59, 54, 47],\n",
       "       ['Male', 28, 77, 97],\n",
       "       ['Female', 50, 67, 57],\n",
       "       ['Female', 34, 103, 23],\n",
       "       ['Female', 23, 62, 41]], dtype=object)"
      ]
     },
     "execution_count": 71,
     "metadata": {},
     "output_type": "execute_result"
    }
   ],
   "source": [
    "x_train"
   ]
  },
  {
   "cell_type": "code",
   "execution_count": 72,
   "id": "3f804ee9",
   "metadata": {},
   "outputs": [
    {
     "data": {
      "text/plain": [
       "array([['Male', 27, 67, 56],\n",
       "       ['Female', 23, 54, 52],\n",
       "       ['Male', 34, 78, 90],\n",
       "       ['Male', 43, 78, 17],\n",
       "       ['Female', 27, 78, 89],\n",
       "       ['Female', 44, 78, 20],\n",
       "       ['Male', 39, 69, 91],\n",
       "       ['Female', 23, 18, 94],\n",
       "       ['Female', 23, 29, 87],\n",
       "       ['Female', 60, 50, 49],\n",
       "       ['Female', 41, 103, 17],\n",
       "       ['Female', 21, 33, 81],\n",
       "       ['Female', 46, 25, 5],\n",
       "       ['Male', 24, 38, 92],\n",
       "       ['Female', 51, 44, 50],\n",
       "       ['Female', 21, 62, 42],\n",
       "       ['Female', 31, 17, 40],\n",
       "       ['Female', 65, 38, 35],\n",
       "       ['Female', 51, 67, 43],\n",
       "       ['Female', 29, 73, 88],\n",
       "       ['Female', 37, 97, 32],\n",
       "       ['Male', 35, 28, 61],\n",
       "       ['Male', 47, 43, 41],\n",
       "       ['Female', 36, 85, 75],\n",
       "       ['Female', 50, 43, 45],\n",
       "       ['Female', 32, 60, 42],\n",
       "       ['Female', 52, 88, 13],\n",
       "       ['Male', 52, 23, 29],\n",
       "       ['Male', 69, 44, 46],\n",
       "       ['Male', 48, 54, 46],\n",
       "       ['Female', 45, 28, 32],\n",
       "       ['Female', 30, 78, 78],\n",
       "       ['Female', 31, 39, 61],\n",
       "       ['Female', 28, 76, 40],\n",
       "       ['Male', 33, 42, 60],\n",
       "       ['Female', 31, 43, 54],\n",
       "       ['Female', 35, 120, 79],\n",
       "       ['Female', 49, 65, 59],\n",
       "       ['Female', 32, 76, 87],\n",
       "       ['Male', 29, 28, 82]], dtype=object)"
      ]
     },
     "execution_count": 72,
     "metadata": {},
     "output_type": "execute_result"
    }
   ],
   "source": [
    "x_test"
   ]
  },
  {
   "cell_type": "code",
   "execution_count": 73,
   "id": "558aa71d",
   "metadata": {},
   "outputs": [
    {
     "data": {
      "text/plain": [
       "array([], shape=(159, 0), dtype=float64)"
      ]
     },
     "execution_count": 73,
     "metadata": {},
     "output_type": "execute_result"
    }
   ],
   "source": [
    "y_train"
   ]
  },
  {
   "cell_type": "code",
   "execution_count": 74,
   "id": "c80ba1a7",
   "metadata": {},
   "outputs": [
    {
     "data": {
      "text/plain": [
       "array([], shape=(40, 0), dtype=float64)"
      ]
     },
     "execution_count": 74,
     "metadata": {},
     "output_type": "execute_result"
    }
   ],
   "source": [
    "y_test"
   ]
  },
  {
   "cell_type": "markdown",
   "id": "c00bbd64",
   "metadata": {},
   "source": [
    "# Build the Model"
   ]
  },
  {
   "cell_type": "code",
   "execution_count": 84,
   "id": "7f62887b",
   "metadata": {},
   "outputs": [],
   "source": [
    "from sklearn import datasets\n",
    "from sklearn.ensemble import RandomForestClassifier\n",
    "from sklearn.datasets import make_classification"
   ]
  },
  {
   "cell_type": "code",
   "execution_count": 85,
   "id": "cc52bd99",
   "metadata": {},
   "outputs": [],
   "source": [
    "iris=datasets.load_iris()"
   ]
  },
  {
   "cell_type": "code",
   "execution_count": 91,
   "id": "472e4550",
   "metadata": {},
   "outputs": [
    {
     "name": "stdout",
     "output_type": "stream",
     "text": [
      "['sepal length (cm)', 'sepal width (cm)', 'petal length (cm)', 'petal width (cm)']\n"
     ]
    }
   ],
   "source": [
    "print(iris.feature_names)"
   ]
  },
  {
   "cell_type": "code",
   "execution_count": 87,
   "id": "845a1fc6",
   "metadata": {},
   "outputs": [
    {
     "name": "stdout",
     "output_type": "stream",
     "text": [
      "['setosa' 'versicolor' 'virginica']\n"
     ]
    }
   ],
   "source": [
    "print(iris.target_names)"
   ]
  },
  {
   "cell_type": "code",
   "execution_count": 88,
   "id": "36642a48",
   "metadata": {},
   "outputs": [
    {
     "data": {
      "text/plain": [
       "array([[5.1, 3.5, 1.4, 0.2],\n",
       "       [4.9, 3. , 1.4, 0.2],\n",
       "       [4.7, 3.2, 1.3, 0.2],\n",
       "       [4.6, 3.1, 1.5, 0.2],\n",
       "       [5. , 3.6, 1.4, 0.2],\n",
       "       [5.4, 3.9, 1.7, 0.4],\n",
       "       [4.6, 3.4, 1.4, 0.3],\n",
       "       [5. , 3.4, 1.5, 0.2],\n",
       "       [4.4, 2.9, 1.4, 0.2],\n",
       "       [4.9, 3.1, 1.5, 0.1],\n",
       "       [5.4, 3.7, 1.5, 0.2],\n",
       "       [4.8, 3.4, 1.6, 0.2],\n",
       "       [4.8, 3. , 1.4, 0.1],\n",
       "       [4.3, 3. , 1.1, 0.1],\n",
       "       [5.8, 4. , 1.2, 0.2],\n",
       "       [5.7, 4.4, 1.5, 0.4],\n",
       "       [5.4, 3.9, 1.3, 0.4],\n",
       "       [5.1, 3.5, 1.4, 0.3],\n",
       "       [5.7, 3.8, 1.7, 0.3],\n",
       "       [5.1, 3.8, 1.5, 0.3],\n",
       "       [5.4, 3.4, 1.7, 0.2],\n",
       "       [5.1, 3.7, 1.5, 0.4],\n",
       "       [4.6, 3.6, 1. , 0.2],\n",
       "       [5.1, 3.3, 1.7, 0.5],\n",
       "       [4.8, 3.4, 1.9, 0.2],\n",
       "       [5. , 3. , 1.6, 0.2],\n",
       "       [5. , 3.4, 1.6, 0.4],\n",
       "       [5.2, 3.5, 1.5, 0.2],\n",
       "       [5.2, 3.4, 1.4, 0.2],\n",
       "       [4.7, 3.2, 1.6, 0.2],\n",
       "       [4.8, 3.1, 1.6, 0.2],\n",
       "       [5.4, 3.4, 1.5, 0.4],\n",
       "       [5.2, 4.1, 1.5, 0.1],\n",
       "       [5.5, 4.2, 1.4, 0.2],\n",
       "       [4.9, 3.1, 1.5, 0.2],\n",
       "       [5. , 3.2, 1.2, 0.2],\n",
       "       [5.5, 3.5, 1.3, 0.2],\n",
       "       [4.9, 3.6, 1.4, 0.1],\n",
       "       [4.4, 3. , 1.3, 0.2],\n",
       "       [5.1, 3.4, 1.5, 0.2],\n",
       "       [5. , 3.5, 1.3, 0.3],\n",
       "       [4.5, 2.3, 1.3, 0.3],\n",
       "       [4.4, 3.2, 1.3, 0.2],\n",
       "       [5. , 3.5, 1.6, 0.6],\n",
       "       [5.1, 3.8, 1.9, 0.4],\n",
       "       [4.8, 3. , 1.4, 0.3],\n",
       "       [5.1, 3.8, 1.6, 0.2],\n",
       "       [4.6, 3.2, 1.4, 0.2],\n",
       "       [5.3, 3.7, 1.5, 0.2],\n",
       "       [5. , 3.3, 1.4, 0.2],\n",
       "       [7. , 3.2, 4.7, 1.4],\n",
       "       [6.4, 3.2, 4.5, 1.5],\n",
       "       [6.9, 3.1, 4.9, 1.5],\n",
       "       [5.5, 2.3, 4. , 1.3],\n",
       "       [6.5, 2.8, 4.6, 1.5],\n",
       "       [5.7, 2.8, 4.5, 1.3],\n",
       "       [6.3, 3.3, 4.7, 1.6],\n",
       "       [4.9, 2.4, 3.3, 1. ],\n",
       "       [6.6, 2.9, 4.6, 1.3],\n",
       "       [5.2, 2.7, 3.9, 1.4],\n",
       "       [5. , 2. , 3.5, 1. ],\n",
       "       [5.9, 3. , 4.2, 1.5],\n",
       "       [6. , 2.2, 4. , 1. ],\n",
       "       [6.1, 2.9, 4.7, 1.4],\n",
       "       [5.6, 2.9, 3.6, 1.3],\n",
       "       [6.7, 3.1, 4.4, 1.4],\n",
       "       [5.6, 3. , 4.5, 1.5],\n",
       "       [5.8, 2.7, 4.1, 1. ],\n",
       "       [6.2, 2.2, 4.5, 1.5],\n",
       "       [5.6, 2.5, 3.9, 1.1],\n",
       "       [5.9, 3.2, 4.8, 1.8],\n",
       "       [6.1, 2.8, 4. , 1.3],\n",
       "       [6.3, 2.5, 4.9, 1.5],\n",
       "       [6.1, 2.8, 4.7, 1.2],\n",
       "       [6.4, 2.9, 4.3, 1.3],\n",
       "       [6.6, 3. , 4.4, 1.4],\n",
       "       [6.8, 2.8, 4.8, 1.4],\n",
       "       [6.7, 3. , 5. , 1.7],\n",
       "       [6. , 2.9, 4.5, 1.5],\n",
       "       [5.7, 2.6, 3.5, 1. ],\n",
       "       [5.5, 2.4, 3.8, 1.1],\n",
       "       [5.5, 2.4, 3.7, 1. ],\n",
       "       [5.8, 2.7, 3.9, 1.2],\n",
       "       [6. , 2.7, 5.1, 1.6],\n",
       "       [5.4, 3. , 4.5, 1.5],\n",
       "       [6. , 3.4, 4.5, 1.6],\n",
       "       [6.7, 3.1, 4.7, 1.5],\n",
       "       [6.3, 2.3, 4.4, 1.3],\n",
       "       [5.6, 3. , 4.1, 1.3],\n",
       "       [5.5, 2.5, 4. , 1.3],\n",
       "       [5.5, 2.6, 4.4, 1.2],\n",
       "       [6.1, 3. , 4.6, 1.4],\n",
       "       [5.8, 2.6, 4. , 1.2],\n",
       "       [5. , 2.3, 3.3, 1. ],\n",
       "       [5.6, 2.7, 4.2, 1.3],\n",
       "       [5.7, 3. , 4.2, 1.2],\n",
       "       [5.7, 2.9, 4.2, 1.3],\n",
       "       [6.2, 2.9, 4.3, 1.3],\n",
       "       [5.1, 2.5, 3. , 1.1],\n",
       "       [5.7, 2.8, 4.1, 1.3],\n",
       "       [6.3, 3.3, 6. , 2.5],\n",
       "       [5.8, 2.7, 5.1, 1.9],\n",
       "       [7.1, 3. , 5.9, 2.1],\n",
       "       [6.3, 2.9, 5.6, 1.8],\n",
       "       [6.5, 3. , 5.8, 2.2],\n",
       "       [7.6, 3. , 6.6, 2.1],\n",
       "       [4.9, 2.5, 4.5, 1.7],\n",
       "       [7.3, 2.9, 6.3, 1.8],\n",
       "       [6.7, 2.5, 5.8, 1.8],\n",
       "       [7.2, 3.6, 6.1, 2.5],\n",
       "       [6.5, 3.2, 5.1, 2. ],\n",
       "       [6.4, 2.7, 5.3, 1.9],\n",
       "       [6.8, 3. , 5.5, 2.1],\n",
       "       [5.7, 2.5, 5. , 2. ],\n",
       "       [5.8, 2.8, 5.1, 2.4],\n",
       "       [6.4, 3.2, 5.3, 2.3],\n",
       "       [6.5, 3. , 5.5, 1.8],\n",
       "       [7.7, 3.8, 6.7, 2.2],\n",
       "       [7.7, 2.6, 6.9, 2.3],\n",
       "       [6. , 2.2, 5. , 1.5],\n",
       "       [6.9, 3.2, 5.7, 2.3],\n",
       "       [5.6, 2.8, 4.9, 2. ],\n",
       "       [7.7, 2.8, 6.7, 2. ],\n",
       "       [6.3, 2.7, 4.9, 1.8],\n",
       "       [6.7, 3.3, 5.7, 2.1],\n",
       "       [7.2, 3.2, 6. , 1.8],\n",
       "       [6.2, 2.8, 4.8, 1.8],\n",
       "       [6.1, 3. , 4.9, 1.8],\n",
       "       [6.4, 2.8, 5.6, 2.1],\n",
       "       [7.2, 3. , 5.8, 1.6],\n",
       "       [7.4, 2.8, 6.1, 1.9],\n",
       "       [7.9, 3.8, 6.4, 2. ],\n",
       "       [6.4, 2.8, 5.6, 2.2],\n",
       "       [6.3, 2.8, 5.1, 1.5],\n",
       "       [6.1, 2.6, 5.6, 1.4],\n",
       "       [7.7, 3. , 6.1, 2.3],\n",
       "       [6.3, 3.4, 5.6, 2.4],\n",
       "       [6.4, 3.1, 5.5, 1.8],\n",
       "       [6. , 3. , 4.8, 1.8],\n",
       "       [6.9, 3.1, 5.4, 2.1],\n",
       "       [6.7, 3.1, 5.6, 2.4],\n",
       "       [6.9, 3.1, 5.1, 2.3],\n",
       "       [5.8, 2.7, 5.1, 1.9],\n",
       "       [6.8, 3.2, 5.9, 2.3],\n",
       "       [6.7, 3.3, 5.7, 2.5],\n",
       "       [6.7, 3. , 5.2, 2.3],\n",
       "       [6.3, 2.5, 5. , 1.9],\n",
       "       [6.5, 3. , 5.2, 2. ],\n",
       "       [6.2, 3.4, 5.4, 2.3],\n",
       "       [5.9, 3. , 5.1, 1.8]])"
      ]
     },
     "execution_count": 88,
     "metadata": {},
     "output_type": "execute_result"
    }
   ],
   "source": [
    "iris.data"
   ]
  },
  {
   "cell_type": "code",
   "execution_count": 92,
   "id": "011cd9fa",
   "metadata": {},
   "outputs": [
    {
     "data": {
      "text/plain": [
       "array([0, 0, 0, 0, 0, 0, 0, 0, 0, 0, 0, 0, 0, 0, 0, 0, 0, 0, 0, 0, 0, 0,\n",
       "       0, 0, 0, 0, 0, 0, 0, 0, 0, 0, 0, 0, 0, 0, 0, 0, 0, 0, 0, 0, 0, 0,\n",
       "       0, 0, 0, 0, 0, 0, 1, 1, 1, 1, 1, 1, 1, 1, 1, 1, 1, 1, 1, 1, 1, 1,\n",
       "       1, 1, 1, 1, 1, 1, 1, 1, 1, 1, 1, 1, 1, 1, 1, 1, 1, 1, 1, 1, 1, 1,\n",
       "       1, 1, 1, 1, 1, 1, 1, 1, 1, 1, 1, 1, 2, 2, 2, 2, 2, 2, 2, 2, 2, 2,\n",
       "       2, 2, 2, 2, 2, 2, 2, 2, 2, 2, 2, 2, 2, 2, 2, 2, 2, 2, 2, 2, 2, 2,\n",
       "       2, 2, 2, 2, 2, 2, 2, 2, 2, 2, 2, 2, 2, 2, 2, 2, 2, 2])"
      ]
     },
     "execution_count": 92,
     "metadata": {},
     "output_type": "execute_result"
    }
   ],
   "source": [
    "iris.target"
   ]
  },
  {
   "cell_type": "code",
   "execution_count": 93,
   "id": "6e7166cc",
   "metadata": {},
   "outputs": [],
   "source": [
    "x=iris.data\n",
    "y=iris.target"
   ]
  },
  {
   "cell_type": "code",
   "execution_count": 94,
   "id": "d7c2dafd",
   "metadata": {},
   "outputs": [
    {
     "data": {
      "text/plain": [
       "(150, 4)"
      ]
     },
     "execution_count": 94,
     "metadata": {},
     "output_type": "execute_result"
    }
   ],
   "source": [
    "x.shape"
   ]
  },
  {
   "cell_type": "code",
   "execution_count": 95,
   "id": "e8b12616",
   "metadata": {},
   "outputs": [
    {
     "data": {
      "text/plain": [
       "(150,)"
      ]
     },
     "execution_count": 95,
     "metadata": {},
     "output_type": "execute_result"
    }
   ],
   "source": [
    "y.shape"
   ]
  },
  {
   "cell_type": "code",
   "execution_count": 96,
   "id": "75d3877f",
   "metadata": {},
   "outputs": [],
   "source": [
    "clf=RandomForestClassifier()"
   ]
  },
  {
   "cell_type": "code",
   "execution_count": 97,
   "id": "1f59de72",
   "metadata": {},
   "outputs": [
    {
     "data": {
      "text/plain": [
       "RandomForestClassifier()"
      ]
     },
     "execution_count": 97,
     "metadata": {},
     "output_type": "execute_result"
    }
   ],
   "source": [
    "clf.fit(x,y)"
   ]
  },
  {
   "cell_type": "code",
   "execution_count": 98,
   "id": "16859565",
   "metadata": {},
   "outputs": [
    {
     "name": "stdout",
     "output_type": "stream",
     "text": [
      "[0.09202863 0.02519588 0.46325048 0.41952501]\n"
     ]
    }
   ],
   "source": [
    "print(clf.feature_importances_)"
   ]
  },
  {
   "cell_type": "code",
   "execution_count": 99,
   "id": "f8386010",
   "metadata": {},
   "outputs": [
    {
     "data": {
      "text/plain": [
       "array([5.1, 3.5, 1.4, 0.2])"
      ]
     },
     "execution_count": 99,
     "metadata": {},
     "output_type": "execute_result"
    }
   ],
   "source": [
    "x[0]"
   ]
  },
  {
   "cell_type": "code",
   "execution_count": 100,
   "id": "8e66f237",
   "metadata": {},
   "outputs": [
    {
     "name": "stdout",
     "output_type": "stream",
     "text": [
      "[0]\n"
     ]
    }
   ],
   "source": [
    "print(clf.predict([[5.1, 3.5, 1.4, 0.2]]))"
   ]
  },
  {
   "cell_type": "code",
   "execution_count": 101,
   "id": "6543b260",
   "metadata": {},
   "outputs": [
    {
     "name": "stdout",
     "output_type": "stream",
     "text": [
      "[0]\n"
     ]
    }
   ],
   "source": [
    "print(clf.predict(x[[0]]))"
   ]
  },
  {
   "cell_type": "code",
   "execution_count": 102,
   "id": "28fd0b49",
   "metadata": {},
   "outputs": [
    {
     "name": "stdout",
     "output_type": "stream",
     "text": [
      "[[1. 0. 0.]]\n"
     ]
    }
   ],
   "source": [
    "print(clf.predict_proba(x[[0]]))"
   ]
  },
  {
   "cell_type": "code",
   "execution_count": 103,
   "id": "4fee5456",
   "metadata": {},
   "outputs": [
    {
     "data": {
      "text/plain": [
       "RandomForestClassifier()"
      ]
     },
     "execution_count": 103,
     "metadata": {},
     "output_type": "execute_result"
    }
   ],
   "source": [
    "clf.fit(iris.data,iris.target_names[iris.target])"
   ]
  },
  {
   "cell_type": "markdown",
   "id": "2b904de8",
   "metadata": {},
   "source": [
    "# Train & Test the model"
   ]
  },
  {
   "cell_type": "code",
   "execution_count": 104,
   "id": "0f12b4b7",
   "metadata": {},
   "outputs": [],
   "source": [
    "x_train,x_test,y_train,y_test=train_test_split(x,y,test_size=0.2)"
   ]
  },
  {
   "cell_type": "code",
   "execution_count": 105,
   "id": "8fc1e66e",
   "metadata": {},
   "outputs": [
    {
     "data": {
      "text/plain": [
       "((120, 4), (120,))"
      ]
     },
     "execution_count": 105,
     "metadata": {},
     "output_type": "execute_result"
    }
   ],
   "source": [
    "x_train.shape,y_train.shape"
   ]
  },
  {
   "cell_type": "code",
   "execution_count": 106,
   "id": "7c915eaa",
   "metadata": {},
   "outputs": [
    {
     "data": {
      "text/plain": [
       "((30, 4), (30,))"
      ]
     },
     "execution_count": 106,
     "metadata": {},
     "output_type": "execute_result"
    }
   ],
   "source": [
    "x_test.shape,y_test.shape"
   ]
  },
  {
   "cell_type": "code",
   "execution_count": 107,
   "id": "9ca9f8c1",
   "metadata": {},
   "outputs": [
    {
     "data": {
      "text/plain": [
       "RandomForestClassifier()"
      ]
     },
     "execution_count": 107,
     "metadata": {},
     "output_type": "execute_result"
    }
   ],
   "source": [
    "clf.fit(x_train,y_train)"
   ]
  },
  {
   "cell_type": "code",
   "execution_count": 108,
   "id": "8c133805",
   "metadata": {},
   "outputs": [
    {
     "name": "stdout",
     "output_type": "stream",
     "text": [
      "[0]\n"
     ]
    }
   ],
   "source": [
    "print(clf.predict([[5.1, 3.5, 1.4, 0.2]]))"
   ]
  },
  {
   "cell_type": "code",
   "execution_count": 109,
   "id": "101d7593",
   "metadata": {},
   "outputs": [
    {
     "name": "stdout",
     "output_type": "stream",
     "text": [
      "[[1. 0. 0.]]\n"
     ]
    }
   ],
   "source": [
    "print(clf.predict_proba([[5.1, 3.5, 1.4, 0.2]]))"
   ]
  },
  {
   "cell_type": "code",
   "execution_count": 110,
   "id": "7877c50a",
   "metadata": {},
   "outputs": [
    {
     "name": "stdout",
     "output_type": "stream",
     "text": [
      "[2 1 0 1 2 0 1 1 2 2 2 2 2 2 1 0 1 1 1 0 0 0 1 2 2 0 0 2 0 2]\n"
     ]
    }
   ],
   "source": [
    "print(clf.predict(x_test))"
   ]
  },
  {
   "cell_type": "code",
   "execution_count": 111,
   "id": "f93d66da",
   "metadata": {},
   "outputs": [
    {
     "name": "stdout",
     "output_type": "stream",
     "text": [
      "[2 2 0 1 2 0 1 1 2 2 2 2 2 2 1 0 1 1 1 0 0 0 1 2 2 0 0 2 0 2]\n"
     ]
    }
   ],
   "source": [
    "print(y_test)"
   ]
  },
  {
   "cell_type": "code",
   "execution_count": 112,
   "id": "e8cdc786",
   "metadata": {},
   "outputs": [
    {
     "name": "stdout",
     "output_type": "stream",
     "text": [
      "0.9666666666666667\n"
     ]
    }
   ],
   "source": [
    "print(clf.score(x_test,y_test))"
   ]
  },
  {
   "cell_type": "markdown",
   "id": "04ed8a31",
   "metadata": {},
   "source": [
    "# Measure the performance using Evaluation Metrics"
   ]
  },
  {
   "cell_type": "code",
   "execution_count": 113,
   "id": "9b234819",
   "metadata": {},
   "outputs": [],
   "source": [
    "import tracemalloc\n",
    "import pandas as pd\n",
    "import dask.dataframe as dd\n",
    "import time\n"
   ]
  },
  {
   "cell_type": "code",
   "execution_count": 114,
   "id": "1d6eff15",
   "metadata": {},
   "outputs": [],
   "source": [
    "def tracing_start():\n",
    "    tracemalloc.stop()\n",
    "    print(\"nTracing Status : \", tracemalloc.is_tracing())\n",
    "    tracemalloc.start()\n",
    "    print(\"Tracing Status : \", tracemalloc.is_tracing())\n",
    "def tracing_mem():\n",
    "    first_size, first_peak = tracemalloc.get_traced_memory()\n",
    "    peak = first_peak/(1024*1024)\n",
    "    print(\"Peak Size in MB - \", peak)"
   ]
  },
  {
   "cell_type": "code",
   "execution_count": 115,
   "id": "6160aadf",
   "metadata": {},
   "outputs": [
    {
     "name": "stdout",
     "output_type": "stream",
     "text": [
      "nTracing Status :  False\n",
      "Tracing Status :  True\n",
      "time elapsed 0.0 milli seconds\n",
      "Peak Size in MB -  0.04711437225341797\n"
     ]
    }
   ],
   "source": [
    "tracing_start()\n",
    "start = time.time()\n",
    "sq_list1 = [elem + elem**2 for elem in range(1,1000)]\n",
    "#print(sq_list1)\n",
    "end = time.time()\n",
    "print(\"time elapsed {} milli seconds\".format((end-start)*1000))\n",
    "tracing_mem()"
   ]
  },
  {
   "cell_type": "code",
   "execution_count": 116,
   "id": "184a16cb",
   "metadata": {},
   "outputs": [
    {
     "name": "stdout",
     "output_type": "stream",
     "text": [
      "nTracing Status :  False\n",
      "Tracing Status :  True\n",
      "Quantify performance improvements in Python \n",
      "time elapsed 0.0 milli seconds\n",
      "Peak Size in MB -  0.0133209228515625\n"
     ]
    }
   ],
   "source": [
    "tracing_start()\n",
    "start = time.time()\n",
    "list_word = [\"Quantify\",\"performance\",\"improvements\",\"in\",\"Python\"]\n",
    "s = \"\"\n",
    "for substring in list_word:\n",
    "    s += substring + \" \"\n",
    "print(s) \n",
    "end = time.time()\n",
    "print(\"time elapsed {} milli seconds\".format((end-start)*1000))\n",
    "tracing_mem()"
   ]
  },
  {
   "cell_type": "markdown",
   "id": "e53160d8",
   "metadata": {},
   "source": [
    "# Dataset Performance Measure"
   ]
  },
  {
   "cell_type": "code",
   "execution_count": 118,
   "id": "0b7992d0",
   "metadata": {},
   "outputs": [
    {
     "name": "stdout",
     "output_type": "stream",
     "text": [
      "nTracing Status :  False\n",
      "Tracing Status :  True\n",
      "time elapsed 31.098604202270508 milli seconds\n",
      "Peak Size in MB -  0.15888595581054688\n"
     ]
    }
   ],
   "source": [
    "tracing_start()\n",
    "start = time.time()\n",
    "\n",
    "df_by_discipline = dataset.groupby('Age').count()[['CustomerID']]\n",
    "end = time.time()\n",
    "print(\"time elapsed {} milli seconds\".format((end-start)*1000))\n",
    "tracing_mem()"
   ]
  }
 ],
 "metadata": {
  "kernelspec": {
   "display_name": "Python 3 (ipykernel)",
   "language": "python",
   "name": "python3"
  },
  "language_info": {
   "codemirror_mode": {
    "name": "ipython",
    "version": 3
   },
   "file_extension": ".py",
   "mimetype": "text/x-python",
   "name": "python",
   "nbconvert_exporter": "python",
   "pygments_lexer": "ipython3",
   "version": "3.9.12"
  }
 },
 "nbformat": 4,
 "nbformat_minor": 5
}
